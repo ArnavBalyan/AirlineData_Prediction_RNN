{
 "cells": [
  {
   "cell_type": "code",
   "execution_count": 1,
   "metadata": {},
   "outputs": [
    {
     "name": "stdout",
     "output_type": "stream",
     "text": [
      "WARNING:tensorflow:From C:\\Users\\Arnav\\Anaconda3\\envs\\gpu\\lib\\site-packages\\tensorflow_core\\python\\compat\\v2_compat.py:88: disable_resource_variables (from tensorflow.python.ops.variable_scope) is deprecated and will be removed in a future version.\n",
      "Instructions for updating:\n",
      "non-resource variables are not supported in the long term\n"
     ]
    }
   ],
   "source": [
    "import pandas as pd\n",
    "import numpy as np\n",
    "import tensorflow.compat.v1 as tf\n",
    "tf.disable_v2_behavior()"
   ]
  },
  {
   "cell_type": "code",
   "execution_count": 2,
   "metadata": {},
   "outputs": [],
   "source": [
    "data = pd.read_csv('international-airline-passengers.csv',usecols = [1])"
   ]
  },
  {
   "cell_type": "code",
   "execution_count": 3,
   "metadata": {},
   "outputs": [
    {
     "data": {
      "text/html": [
       "<div>\n",
       "<style scoped>\n",
       "    .dataframe tbody tr th:only-of-type {\n",
       "        vertical-align: middle;\n",
       "    }\n",
       "\n",
       "    .dataframe tbody tr th {\n",
       "        vertical-align: top;\n",
       "    }\n",
       "\n",
       "    .dataframe thead th {\n",
       "        text-align: right;\n",
       "    }\n",
       "</style>\n",
       "<table border=\"1\" class=\"dataframe\">\n",
       "  <thead>\n",
       "    <tr style=\"text-align: right;\">\n",
       "      <th></th>\n",
       "      <th>International airline passengers: monthly totals in thousands. Jan 49 ? Dec 60</th>\n",
       "    </tr>\n",
       "  </thead>\n",
       "  <tbody>\n",
       "    <tr>\n",
       "      <th>0</th>\n",
       "      <td>112</td>\n",
       "    </tr>\n",
       "    <tr>\n",
       "      <th>1</th>\n",
       "      <td>118</td>\n",
       "    </tr>\n",
       "    <tr>\n",
       "      <th>2</th>\n",
       "      <td>132</td>\n",
       "    </tr>\n",
       "    <tr>\n",
       "      <th>3</th>\n",
       "      <td>129</td>\n",
       "    </tr>\n",
       "    <tr>\n",
       "      <th>4</th>\n",
       "      <td>121</td>\n",
       "    </tr>\n",
       "    <tr>\n",
       "      <th>...</th>\n",
       "      <td>...</td>\n",
       "    </tr>\n",
       "    <tr>\n",
       "      <th>139</th>\n",
       "      <td>606</td>\n",
       "    </tr>\n",
       "    <tr>\n",
       "      <th>140</th>\n",
       "      <td>508</td>\n",
       "    </tr>\n",
       "    <tr>\n",
       "      <th>141</th>\n",
       "      <td>461</td>\n",
       "    </tr>\n",
       "    <tr>\n",
       "      <th>142</th>\n",
       "      <td>390</td>\n",
       "    </tr>\n",
       "    <tr>\n",
       "      <th>143</th>\n",
       "      <td>432</td>\n",
       "    </tr>\n",
       "  </tbody>\n",
       "</table>\n",
       "<p>144 rows × 1 columns</p>\n",
       "</div>"
      ],
      "text/plain": [
       "     International airline passengers: monthly totals in thousands. Jan 49 ? Dec 60\n",
       "0                                                  112                             \n",
       "1                                                  118                             \n",
       "2                                                  132                             \n",
       "3                                                  129                             \n",
       "4                                                  121                             \n",
       "..                                                 ...                             \n",
       "139                                                606                             \n",
       "140                                                508                             \n",
       "141                                                461                             \n",
       "142                                                390                             \n",
       "143                                                432                             \n",
       "\n",
       "[144 rows x 1 columns]"
      ]
     },
     "execution_count": 3,
     "metadata": {},
     "output_type": "execute_result"
    }
   ],
   "source": [
    "data"
   ]
  },
  {
   "cell_type": "code",
   "execution_count": 4,
   "metadata": {},
   "outputs": [
    {
     "data": {
      "text/plain": [
       "(144, 1)"
      ]
     },
     "execution_count": 4,
     "metadata": {},
     "output_type": "execute_result"
    }
   ],
   "source": [
    "value = data.values.astype('float32')\n",
    "value.shape"
   ]
  },
  {
   "cell_type": "code",
   "execution_count": 5,
   "metadata": {},
   "outputs": [],
   "source": [
    "train_size = int(value.shape[0] *0.67)\n",
    "test_size = value.shape[0] - train_size\n",
    "train = value[0:train_size]\n",
    "test = value[train_size:]"
   ]
  },
  {
   "cell_type": "code",
   "execution_count": 6,
   "metadata": {},
   "outputs": [],
   "source": [
    "from sklearn.preprocessing import MinMaxScaler\n",
    "scaler = MinMaxScaler(feature_range = (0,1))\n",
    "train = scaler.fit_transform(train)\n",
    "test = scaler.transform(test)"
   ]
  },
  {
   "cell_type": "code",
   "execution_count": 7,
   "metadata": {},
   "outputs": [],
   "source": [
    "def makedata(data,ksize):\n",
    "    dataX, dataY = [],[]\n",
    "    for i in range(data.shape[0] - ksize):\n",
    "        x = data[i:i + ksize,0]\n",
    "        y = data[i+ksize,0]\n",
    "        dataX.append(x)\n",
    "        dataY.append(y)\n",
    "    return np.array(dataX), np.array(dataY)"
   ]
  },
  {
   "cell_type": "code",
   "execution_count": 8,
   "metadata": {},
   "outputs": [],
   "source": [
    "look_back = 12\n",
    "trainx,trainy = makedata(train,look_back)\n",
    "testx,testy = makedata(test,look_back)"
   ]
  },
  {
   "cell_type": "code",
   "execution_count": 9,
   "metadata": {},
   "outputs": [],
   "source": [
    "trainx = np.reshape(trainx, (trainx.shape[0], trainx.shape[1],1))\n",
    "testx = np.reshape(testx, (testx.shape[0], testx.shape[1],1))"
   ]
  },
  {
   "cell_type": "code",
   "execution_count": 10,
   "metadata": {},
   "outputs": [
    {
     "name": "stderr",
     "output_type": "stream",
     "text": [
      "Using TensorFlow backend.\n"
     ]
    }
   ],
   "source": [
    "from keras.models import Sequential\n",
    "from keras.layers import SimpleRNN, Dense"
   ]
  },
  {
   "cell_type": "code",
   "execution_count": 11,
   "metadata": {},
   "outputs": [
    {
     "name": "stdout",
     "output_type": "stream",
     "text": [
      "WARNING:tensorflow:From C:\\Users\\Arnav\\Anaconda3\\envs\\gpu\\lib\\site-packages\\tensorflow_core\\python\\ops\\resource_variable_ops.py:1635: calling BaseResourceVariable.__init__ (from tensorflow.python.ops.resource_variable_ops) with constraint is deprecated and will be removed in a future version.\n",
      "Instructions for updating:\n",
      "If using Keras pass *_constraint arguments to layers.\n",
      "Epoch 1/125\n",
      "84/84 [==============================] - 2s 22ms/step - loss: 0.0742\n",
      "Epoch 2/125\n",
      "84/84 [==============================] - 0s 617us/step - loss: 0.0356\n",
      "Epoch 3/125\n",
      "84/84 [==============================] - 0s 582us/step - loss: 0.0252\n",
      "Epoch 4/125\n",
      "84/84 [==============================] - 0s 665us/step - loss: 0.0182\n",
      "Epoch 5/125\n",
      "84/84 [==============================] - 0s 606us/step - loss: 0.0143\n",
      "Epoch 6/125\n",
      "84/84 [==============================] - 0s 570us/step - loss: 0.0132\n",
      "Epoch 7/125\n",
      "84/84 [==============================] - 0s 594us/step - loss: 0.0112\n",
      "Epoch 8/125\n",
      "84/84 [==============================] - 0s 570us/step - loss: 0.0120\n",
      "Epoch 9/125\n",
      "84/84 [==============================] - 0s 582us/step - loss: 0.0108\n",
      "Epoch 10/125\n",
      "84/84 [==============================] - 0s 558us/step - loss: 0.0093\n",
      "Epoch 11/125\n",
      "84/84 [==============================] - 0s 593us/step - loss: 0.0093\n",
      "Epoch 12/125\n",
      "84/84 [==============================] - 0s 641us/step - loss: 0.0087\n",
      "Epoch 13/125\n",
      "84/84 [==============================] - 0s 629us/step - loss: 0.0085\n",
      "Epoch 14/125\n",
      "84/84 [==============================] - 0s 606us/step - loss: 0.0086\n",
      "Epoch 15/125\n",
      "84/84 [==============================] - 0s 606us/step - loss: 0.0075\n",
      "Epoch 16/125\n",
      "84/84 [==============================] - 0s 606us/step - loss: 0.0074\n",
      "Epoch 17/125\n",
      "84/84 [==============================] - 0s 582us/step - loss: 0.0067\n",
      "Epoch 18/125\n",
      "84/84 [==============================] - 0s 582us/step - loss: 0.0066\n",
      "Epoch 19/125\n",
      "84/84 [==============================] - 0s 653us/step - loss: 0.0067\n",
      "Epoch 20/125\n",
      "84/84 [==============================] - 0s 653us/step - loss: 0.0065\n",
      "Epoch 21/125\n",
      "84/84 [==============================] - 0s 629us/step - loss: 0.0059\n",
      "Epoch 22/125\n",
      "84/84 [==============================] - 0s 629us/step - loss: 0.0057\n",
      "Epoch 23/125\n",
      "84/84 [==============================] - 0s 641us/step - loss: 0.0054\n",
      "Epoch 24/125\n",
      "84/84 [==============================] - 0s 594us/step - loss: 0.0053\n",
      "Epoch 25/125\n",
      "84/84 [==============================] - 0s 617us/step - loss: 0.0056\n",
      "Epoch 26/125\n",
      "84/84 [==============================] - 0s 617us/step - loss: 0.0056\n",
      "Epoch 27/125\n",
      "84/84 [==============================] - 0s 606us/step - loss: 0.0056\n",
      "Epoch 28/125\n",
      "84/84 [==============================] - 0s 617us/step - loss: 0.0044\n",
      "Epoch 29/125\n",
      "84/84 [==============================] - 0s 606us/step - loss: 0.0051\n",
      "Epoch 30/125\n",
      "84/84 [==============================] - 0s 606us/step - loss: 0.0052\n",
      "Epoch 31/125\n",
      "84/84 [==============================] - 0s 582us/step - loss: 0.0052\n",
      "Epoch 32/125\n",
      "84/84 [==============================] - 0s 582us/step - loss: 0.0048\n",
      "Epoch 33/125\n",
      "84/84 [==============================] - 0s 606us/step - loss: 0.0050\n",
      "Epoch 34/125\n",
      "84/84 [==============================] - 0s 617us/step - loss: 0.0043\n",
      "Epoch 35/125\n",
      "84/84 [==============================] - 0s 617us/step - loss: 0.0039\n",
      "Epoch 36/125\n",
      "84/84 [==============================] - 0s 641us/step - loss: 0.0047\n",
      "Epoch 37/125\n",
      "84/84 [==============================] - 0s 662us/step - loss: 0.0040\n",
      "Epoch 38/125\n",
      "84/84 [==============================] - 0s 606us/step - loss: 0.0041\n",
      "Epoch 39/125\n",
      "84/84 [==============================] - 0s 606us/step - loss: 0.0035\n",
      "Epoch 40/125\n",
      "84/84 [==============================] - 0s 618us/step - loss: 0.0036\n",
      "Epoch 41/125\n",
      "84/84 [==============================] - 0s 665us/step - loss: 0.0037\n",
      "Epoch 42/125\n",
      "84/84 [==============================] - 0s 629us/step - loss: 0.0034\n",
      "Epoch 43/125\n",
      "84/84 [==============================] - 0s 689us/step - loss: 0.0032\n",
      "Epoch 44/125\n",
      "84/84 [==============================] - 0s 724us/step - loss: 0.0033\n",
      "Epoch 45/125\n",
      "84/84 [==============================] - 0s 819us/step - loss: 0.0031\n",
      "Epoch 46/125\n",
      "84/84 [==============================] - 0s 748us/step - loss: 0.0031\n",
      "Epoch 47/125\n",
      "84/84 [==============================] - 0s 665us/step - loss: 0.0031\n",
      "Epoch 48/125\n",
      "84/84 [==============================] - 0s 689us/step - loss: 0.0033\n",
      "Epoch 49/125\n",
      "84/84 [==============================] - 0s 641us/step - loss: 0.0029\n",
      "Epoch 50/125\n",
      "84/84 [==============================] - 0s 629us/step - loss: 0.0028\n",
      "Epoch 51/125\n",
      "84/84 [==============================] - 0s 629us/step - loss: 0.0029\n",
      "Epoch 52/125\n",
      "84/84 [==============================] - 0s 594us/step - loss: 0.0028\n",
      "Epoch 53/125\n",
      "84/84 [==============================] - 0s 606us/step - loss: 0.0027\n",
      "Epoch 54/125\n",
      "84/84 [==============================] - 0s 629us/step - loss: 0.0026\n",
      "Epoch 55/125\n",
      "84/84 [==============================] - 0s 617us/step - loss: 0.0024\n",
      "Epoch 56/125\n",
      "84/84 [==============================] - 0s 629us/step - loss: 0.0024\n",
      "Epoch 57/125\n",
      "84/84 [==============================] - 0s 594us/step - loss: 0.0023\n",
      "Epoch 58/125\n",
      "84/84 [==============================] - 0s 618us/step - loss: 0.0025\n",
      "Epoch 59/125\n",
      "84/84 [==============================] - 0s 689us/step - loss: 0.0024\n",
      "Epoch 60/125\n",
      "84/84 [==============================] - 0s 630us/step - loss: 0.0025\n",
      "Epoch 61/125\n",
      "84/84 [==============================] - 0s 653us/step - loss: 0.0025\n",
      "Epoch 62/125\n",
      "84/84 [==============================] - 0s 689us/step - loss: 0.0021\n",
      "Epoch 63/125\n",
      "84/84 [==============================] - 0s 653us/step - loss: 0.0021\n",
      "Epoch 64/125\n",
      "84/84 [==============================] - 0s 712us/step - loss: 0.0022\n",
      "Epoch 65/125\n",
      "84/84 [==============================] - 0s 712us/step - loss: 0.0021\n",
      "Epoch 66/125\n",
      "84/84 [==============================] - 0s 724us/step - loss: 0.0021\n",
      "Epoch 67/125\n",
      "84/84 [==============================] - 0s 689us/step - loss: 0.0023\n",
      "Epoch 68/125\n",
      "84/84 [==============================] - 0s 641us/step - loss: 0.0021\n",
      "Epoch 69/125\n",
      "84/84 [==============================] - 0s 629us/step - loss: 0.0023\n",
      "Epoch 70/125\n",
      "84/84 [==============================] - 0s 665us/step - loss: 0.0019\n",
      "Epoch 71/125\n",
      "84/84 [==============================] - 0s 629us/step - loss: 0.0020\n",
      "Epoch 72/125\n",
      "84/84 [==============================] - 0s 665us/step - loss: 0.0025\n",
      "Epoch 73/125\n",
      "84/84 [==============================] - 0s 700us/step - loss: 0.0023\n",
      "Epoch 74/125\n",
      "84/84 [==============================] - 0s 653us/step - loss: 0.0021\n",
      "Epoch 75/125\n",
      "84/84 [==============================] - 0s 653us/step - loss: 0.0018\n",
      "Epoch 76/125\n",
      "84/84 [==============================] - 0s 653us/step - loss: 0.0018\n",
      "Epoch 77/125\n",
      "84/84 [==============================] - 0s 606us/step - loss: 0.0019\n",
      "Epoch 78/125\n",
      "84/84 [==============================] - 0s 641us/step - loss: 0.0017\n",
      "Epoch 79/125\n",
      "84/84 [==============================] - 0s 641us/step - loss: 0.0022\n",
      "Epoch 80/125\n",
      "84/84 [==============================] - 0s 641us/step - loss: 0.0017\n",
      "Epoch 81/125\n",
      "84/84 [==============================] - 0s 641us/step - loss: 0.0018\n",
      "Epoch 82/125\n",
      "84/84 [==============================] - 0s 641us/step - loss: 0.0018\n",
      "Epoch 83/125\n",
      "84/84 [==============================] - 0s 606us/step - loss: 0.0017\n",
      "Epoch 84/125\n",
      "84/84 [==============================] - 0s 606us/step - loss: 0.0018\n",
      "Epoch 85/125\n",
      "84/84 [==============================] - 0s 582us/step - loss: 0.0018\n",
      "Epoch 86/125\n",
      "84/84 [==============================] - 0s 582us/step - loss: 0.0019\n",
      "Epoch 87/125\n",
      "84/84 [==============================] - 0s 570us/step - loss: 0.0020\n",
      "Epoch 88/125\n",
      "84/84 [==============================] - 0s 582us/step - loss: 0.0021\n",
      "Epoch 89/125\n",
      "84/84 [==============================] - 0s 594us/step - loss: 0.0020\n",
      "Epoch 90/125\n",
      "84/84 [==============================] - 0s 582us/step - loss: 0.0018\n",
      "Epoch 91/125\n",
      "84/84 [==============================] - 0s 582us/step - loss: 0.0017\n",
      "Epoch 92/125\n",
      "84/84 [==============================] - 0s 606us/step - loss: 0.0018\n",
      "Epoch 93/125\n",
      "84/84 [==============================] - 0s 641us/step - loss: 0.0021\n",
      "Epoch 94/125\n",
      "84/84 [==============================] - 0s 641us/step - loss: 0.0020\n",
      "Epoch 95/125\n"
     ]
    },
    {
     "name": "stdout",
     "output_type": "stream",
     "text": [
      "84/84 [==============================] - 0s 653us/step - loss: 0.0016\n",
      "Epoch 96/125\n",
      "84/84 [==============================] - 0s 724us/step - loss: 0.0016\n",
      "Epoch 97/125\n",
      "84/84 [==============================] - 0s 653us/step - loss: 0.0017\n",
      "Epoch 98/125\n",
      "84/84 [==============================] - 0s 665us/step - loss: 0.0020\n",
      "Epoch 99/125\n",
      "84/84 [==============================] - 0s 641us/step - loss: 0.0022\n",
      "Epoch 100/125\n",
      "84/84 [==============================] - 0s 653us/step - loss: 0.0024\n",
      "Epoch 101/125\n",
      "84/84 [==============================] - 0s 689us/step - loss: 0.0019\n",
      "Epoch 102/125\n",
      "84/84 [==============================] - 0s 665us/step - loss: 0.0018\n",
      "Epoch 103/125\n",
      "84/84 [==============================] - 0s 700us/step - loss: 0.0018\n",
      "Epoch 104/125\n",
      "84/84 [==============================] - 0s 700us/step - loss: 0.0017\n",
      "Epoch 105/125\n",
      "84/84 [==============================] - 0s 653us/step - loss: 0.0017\n",
      "Epoch 106/125\n",
      "84/84 [==============================] - 0s 629us/step - loss: 0.0015\n",
      "Epoch 107/125\n",
      "84/84 [==============================] - 0s 606us/step - loss: 0.0015\n",
      "Epoch 108/125\n",
      "84/84 [==============================] - 0s 653us/step - loss: 0.0015\n",
      "Epoch 109/125\n",
      "84/84 [==============================] - 0s 594us/step - loss: 0.0014\n",
      "Epoch 110/125\n",
      "84/84 [==============================] - 0s 641us/step - loss: 0.0016\n",
      "Epoch 111/125\n",
      "84/84 [==============================] - 0s 606us/step - loss: 0.0016\n",
      "Epoch 112/125\n",
      "84/84 [==============================] - 0s 606us/step - loss: 0.0017\n",
      "Epoch 113/125\n",
      "84/84 [==============================] - 0s 653us/step - loss: 0.0019\n",
      "Epoch 114/125\n",
      "84/84 [==============================] - 0s 689us/step - loss: 0.0024\n",
      "Epoch 115/125\n",
      "84/84 [==============================] - 0s 689us/step - loss: 0.0016\n",
      "Epoch 116/125\n",
      "84/84 [==============================] - 0s 653us/step - loss: 0.0017\n",
      "Epoch 117/125\n",
      "84/84 [==============================] - 0s 582us/step - loss: 0.0017\n",
      "Epoch 118/125\n",
      "84/84 [==============================] - 0s 606us/step - loss: 0.0015\n",
      "Epoch 119/125\n",
      "84/84 [==============================] - 0s 641us/step - loss: 0.0015\n",
      "Epoch 120/125\n",
      "84/84 [==============================] - 0s 617us/step - loss: 0.0019\n",
      "Epoch 121/125\n",
      "84/84 [==============================] - 0s 606us/step - loss: 0.0019\n",
      "Epoch 122/125\n",
      "84/84 [==============================] - 0s 582us/step - loss: 0.0022\n",
      "Epoch 123/125\n",
      "84/84 [==============================] - 0s 582us/step - loss: 0.0024\n",
      "Epoch 124/125\n",
      "84/84 [==============================] - 0s 582us/step - loss: 0.0024\n",
      "Epoch 125/125\n",
      "84/84 [==============================] - 0s 558us/step - loss: 0.0023\n"
     ]
    },
    {
     "data": {
      "text/plain": [
       "<keras.callbacks.callbacks.History at 0x1efe7b63e08>"
      ]
     },
     "execution_count": 11,
     "metadata": {},
     "output_type": "execute_result"
    }
   ],
   "source": [
    "model = Sequential()\n",
    "model.add(SimpleRNN(22, input_shape=(look_back,1)))\n",
    "model.add(Dense(units = 1))\n",
    "model.compile(loss = 'mean_squared_error', optimizer='adam')\n",
    "model.fit(trainx,trainy,epochs = 125, batch_size = 10)"
   ]
  },
  {
   "cell_type": "code",
   "execution_count": 12,
   "metadata": {},
   "outputs": [
    {
     "data": {
      "text/plain": [
       "(36,)"
      ]
     },
     "execution_count": 12,
     "metadata": {},
     "output_type": "execute_result"
    }
   ],
   "source": [
    "test_predict = model.predict(testx)\n",
    "test_predict = scaler.inverse_transform(test_predict).ravel()\n",
    "test_predict.shape"
   ]
  },
  {
   "cell_type": "code",
   "execution_count": 13,
   "metadata": {},
   "outputs": [
    {
     "data": {
      "text/plain": [
       "((84,), (36,))"
      ]
     },
     "execution_count": 13,
     "metadata": {},
     "output_type": "execute_result"
    }
   ],
   "source": [
    "train_predict = model.predict(trainx)\n",
    "train_predict = scaler.inverse_transform(train_predict).ravel()\n",
    "train_predict.shape,test_predict.shape"
   ]
  },
  {
   "cell_type": "code",
   "execution_count": 14,
   "metadata": {},
   "outputs": [],
   "source": [
    "testTrue = scaler.inverse_transform([testy]).ravel()\n",
    "trainTrue = scaler.inverse_transform([trainy]).ravel()"
   ]
  },
  {
   "cell_type": "code",
   "execution_count": 15,
   "metadata": {},
   "outputs": [],
   "source": [
    "from matplotlib import pyplot as plt"
   ]
  },
  {
   "cell_type": "code",
   "execution_count": 16,
   "metadata": {},
   "outputs": [
    {
     "data": {
      "image/png": "[encoded data removed]",
      "text/plain": [
       "<Figure size 432x288 with 1 Axes>"
      ]
     },
     "metadata": {
      "needs_background": "light"
     },
     "output_type": "display_data"
    }
   ],
   "source": [
    "plt.plot(trainTrue, c = 'g')\n",
    "plt.plot(train_predict, c = 'b')\n",
    "plt.show()"
   ]
  },
  {
   "cell_type": "code",
   "execution_count": 17,
   "metadata": {},
   "outputs": [
    {
     "data": {
      "image/png": "[encoded data removed]",
      "text/plain": [
       "<Figure size 432x288 with 1 Axes>"
      ]
     },
     "metadata": {
      "needs_background": "light"
     },
     "output_type": "display_data"
    }
   ],
   "source": [
    "mixpred = np.concatenate((train_predict,test_predict))\n",
    "mixtrue = np.concatenate((trainTrue,testTrue))\n",
    "plt.plot(mixpred, c = 'g')\n",
    "plt.plot(mixtrue, c = 'b')\n",
    "plt.show()"
   ]
  }
 ],
 "metadata": {
  "kernelspec": {
   "display_name": "gpu",
   "language": "python",
   "name": "gpu"
  },
  "language_info": {
   "codemirror_mode": {
    "name": "ipython",
    "version": 3
   },
   "file_extension": ".py",
   "mimetype": "text/x-python",
   "name": "python",
   "nbconvert_exporter": "python",
   "pygments_lexer": "ipython3",
   "version": "3.7.6"
  }
 },
 "nbformat": 4,
 "nbformat_minor": 4
}
